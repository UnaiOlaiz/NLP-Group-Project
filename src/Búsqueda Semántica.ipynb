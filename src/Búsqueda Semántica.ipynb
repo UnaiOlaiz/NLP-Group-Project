{
 "cells": [
  {
   "cell_type": "markdown",
   "id": "d5909b17",
   "metadata": {},
   "source": [
    "# Libererías necesarias"
   ]
  },
  {
   "cell_type": "code",
   "execution_count": 1,
   "id": "83dc8f3f",
   "metadata": {},
   "outputs": [
    {
     "ename": "ModuleNotFoundError",
     "evalue": "No module named 'fasttext'",
     "output_type": "error",
     "traceback": [
      "\u001b[31m---------------------------------------------------------------------------\u001b[39m",
      "\u001b[31mModuleNotFoundError\u001b[39m                       Traceback (most recent call last)",
      "\u001b[36mCell\u001b[39m\u001b[36m \u001b[39m\u001b[32mIn[1]\u001b[39m\u001b[32m, line 3\u001b[39m\n\u001b[32m      1\u001b[39m \u001b[38;5;28;01mimport\u001b[39;00m\u001b[38;5;250m \u001b[39m\u001b[34;01mpandas\u001b[39;00m\u001b[38;5;250m \u001b[39m\u001b[38;5;28;01mas\u001b[39;00m\u001b[38;5;250m \u001b[39m\u001b[34;01mpd\u001b[39;00m\n\u001b[32m      2\u001b[39m \u001b[38;5;28;01mfrom\u001b[39;00m\u001b[38;5;250m \u001b[39m\u001b[34;01msentence_transformers\u001b[39;00m\u001b[38;5;250m \u001b[39m\u001b[38;5;28;01mimport\u001b[39;00m SentenceTransformer, util\n\u001b[32m----> \u001b[39m\u001b[32m3\u001b[39m \u001b[38;5;28;01mimport\u001b[39;00m\u001b[38;5;250m \u001b[39m\u001b[34;01mfasttext\u001b[39;00m\n\u001b[32m      4\u001b[39m \u001b[38;5;28;01mfrom\u001b[39;00m\u001b[38;5;250m \u001b[39m\u001b[34;01msklearn\u001b[39;00m\u001b[34;01m.\u001b[39;00m\u001b[34;01mmetrics\u001b[39;00m\u001b[34;01m.\u001b[39;00m\u001b[34;01mpairwise\u001b[39;00m\u001b[38;5;250m \u001b[39m\u001b[38;5;28;01mimport\u001b[39;00m cosine_similarity\n\u001b[32m      5\u001b[39m \u001b[38;5;28;01mimport\u001b[39;00m\u001b[38;5;250m \u001b[39m\u001b[34;01mplotly\u001b[39;00m\u001b[34;01m.\u001b[39;00m\u001b[34;01mexpress\u001b[39;00m\u001b[38;5;250m \u001b[39m\u001b[38;5;28;01mas\u001b[39;00m\u001b[38;5;250m \u001b[39m\u001b[34;01mpx\u001b[39;00m\n",
      "\u001b[31mModuleNotFoundError\u001b[39m: No module named 'fasttext'"
     ]
    }
   ],
   "source": [
    "import pandas as pd\n",
    "from sentence_transformers import SentenceTransformer, util\n",
    "import fasttext\n",
    "from sklearn.metrics.pairwise import cosine_similarity\n",
    "import plotly.express as px\n",
    "from sklearn.decomposition import PCA\n",
    "import numpy as np\n",
    "import sys\n",
    "import umap\n",
    "import altair as alt\n",
    "import matplotlib.pyplot as plt\n",
    "import seaborn as sns"
   ]
  },
  {
   "cell_type": "markdown",
   "id": "7fabf1d1",
   "metadata": {},
   "source": [
    "Primero importamos el dataset que hemos limpiado con la función anteriormente creada"
   ]
  },
  {
   "cell_type": "code",
   "execution_count": null,
   "id": "b005d507",
   "metadata": {},
   "outputs": [
    {
     "data": {
      "text/html": [
       "<div>\n",
       "<style scoped>\n",
       "    .dataframe tbody tr th:only-of-type {\n",
       "        vertical-align: middle;\n",
       "    }\n",
       "\n",
       "    .dataframe tbody tr th {\n",
       "        vertical-align: top;\n",
       "    }\n",
       "\n",
       "    .dataframe thead th {\n",
       "        text-align: right;\n",
       "    }\n",
       "</style>\n",
       "<table border=\"1\" class=\"dataframe\">\n",
       "  <thead>\n",
       "    <tr style=\"text-align: right;\">\n",
       "      <th></th>\n",
       "      <th>text</th>\n",
       "    </tr>\n",
       "  </thead>\n",
       "  <tbody>\n",
       "    <tr>\n",
       "      <th>0</th>\n",
       "      <td>1|1|بسم الله الرحمن الرحيم</td>\n",
       "    </tr>\n",
       "    <tr>\n",
       "      <th>1</th>\n",
       "      <td>1|2|الحمد لله رب العالمين</td>\n",
       "    </tr>\n",
       "    <tr>\n",
       "      <th>2</th>\n",
       "      <td>1|3|الرحمن الرحيم</td>\n",
       "    </tr>\n",
       "    <tr>\n",
       "      <th>3</th>\n",
       "      <td>1|4|مالك يوم الدين</td>\n",
       "    </tr>\n",
       "    <tr>\n",
       "      <th>4</th>\n",
       "      <td>1|5|اياك نعبد واياك نستعين</td>\n",
       "    </tr>\n",
       "  </tbody>\n",
       "</table>\n",
       "</div>"
      ],
      "text/plain": [
       "                         text\n",
       "0  1|1|بسم الله الرحمن الرحيم\n",
       "1   1|2|الحمد لله رب العالمين\n",
       "2           1|3|الرحمن الرحيم\n",
       "3          1|4|مالك يوم الدين\n",
       "4  1|5|اياك نعبد واياك نستعين"
      ]
     },
     "execution_count": 2,
     "metadata": {},
     "output_type": "execute_result"
    }
   ],
   "source": [
    "with open(\"../data/cleaned_data/cleaned_arab_quran.txt\", encoding=\"utf-8\") as f:\n",
    "    lines = f.readlines()\n",
    "\n",
    "df = pd.DataFrame(lines, columns=[\"text\"])\n",
    "df[\"text\"] = df[\"text\"].str.strip()\n",
    "\n",
    "df.head()"
   ]
  },
  {
   "cell_type": "code",
   "execution_count": null,
   "id": "b2f8c861",
   "metadata": {},
   "outputs": [
    {
     "data": {
      "text/html": [
       "<div>\n",
       "<style scoped>\n",
       "    .dataframe tbody tr th:only-of-type {\n",
       "        vertical-align: middle;\n",
       "    }\n",
       "\n",
       "    .dataframe tbody tr th {\n",
       "        vertical-align: top;\n",
       "    }\n",
       "\n",
       "    .dataframe thead th {\n",
       "        text-align: right;\n",
       "    }\n",
       "</style>\n",
       "<table border=\"1\" class=\"dataframe\">\n",
       "  <thead>\n",
       "    <tr style=\"text-align: right;\">\n",
       "      <th></th>\n",
       "      <th>text</th>\n",
       "    </tr>\n",
       "  </thead>\n",
       "  <tbody>\n",
       "    <tr>\n",
       "      <th>0</th>\n",
       "      <td>in the name of allah the entirely merciful the...</td>\n",
       "    </tr>\n",
       "    <tr>\n",
       "      <th>1</th>\n",
       "      <td>all praise is due to allah lord of the worlds</td>\n",
       "    </tr>\n",
       "    <tr>\n",
       "      <th>2</th>\n",
       "      <td>the entirely merciful the especially merciful</td>\n",
       "    </tr>\n",
       "    <tr>\n",
       "      <th>3</th>\n",
       "      <td>sovereign of the day of recompense</td>\n",
       "    </tr>\n",
       "    <tr>\n",
       "      <th>4</th>\n",
       "      <td>it is you we worship and you we ask for help</td>\n",
       "    </tr>\n",
       "  </tbody>\n",
       "</table>\n",
       "</div>"
      ],
      "text/plain": [
       "                                                text\n",
       "0  in the name of allah the entirely merciful the...\n",
       "1      all praise is due to allah lord of the worlds\n",
       "2      the entirely merciful the especially merciful\n",
       "3                 sovereign of the day of recompense\n",
       "4       it is you we worship and you we ask for help"
      ]
     },
     "execution_count": 3,
     "metadata": {},
     "output_type": "execute_result"
    }
   ],
   "source": [
    "with open(\"../data/cleaned_data/cleaned_english_quran.txt\", encoding=\"utf-8\") as f:\n",
    "    lines = f.readlines()\n",
    "\n",
    "df = pd.DataFrame(lines, columns=[\"text\"])\n",
    "df[\"text\"] = df[\"text\"].str.strip()\n",
    "\n",
    "df.head()"
   ]
  },
  {
   "cell_type": "markdown",
   "id": "b4753e5d",
   "metadata": {},
   "source": [
    "# Creación de los modelos"
   ]
  },
  {
   "cell_type": "markdown",
   "id": "89f9ac38",
   "metadata": {},
   "source": [
    "Ahora vamos a usar varios modelos diferentes para comparar los resultados, usaremos el concepto \"الجنة\" (paraíso) para ambas."
   ]
  },
  {
   "cell_type": "code",
   "execution_count": null,
   "id": "fe57e82c",
   "metadata": {},
   "outputs": [],
   "source": [
    "concept = \"الجنة\""
   ]
  },
  {
   "cell_type": "markdown",
   "id": "682ab047",
   "metadata": {},
   "source": [
    "## Sentence-Transformer Árabe"
   ]
  },
  {
   "cell_type": "markdown",
   "id": "92f0f2b4",
   "metadata": {},
   "source": [
    "Importamos el sentence-transformer que vamos a usar para ambos idiomas, ya que éste es multilingüe."
   ]
  },
  {
   "cell_type": "code",
   "execution_count": null,
   "id": "ae28d42f",
   "metadata": {},
   "outputs": [
    {
     "name": "stdout",
     "output_type": "stream",
     "text": [
      "\n",
      "Top 10 Sentence-Transformers:\n",
      "Empty DataFrame\n",
      "Columns: [text, cos_similarity]\n",
      "Index: []\n"
     ]
    }
   ],
   "source": [
    "model = SentenceTransformer('distiluse-base-multilingual-cased-v2')\n",
    "\n",
    "df_st = pd.DataFrame(lines, columns=[\"text\"])\n",
    "df_st[\"text\"] = df_st[\"text\"].str.strip()\n",
    "df_st = df_st[df_st[\"text\"].str.contains(r\"[\\u0600-\\u06FF]\")]\n",
    "df_st[\"arab_embeddings\"] = df_st[\"text\"].apply(lambda x: model.encode(x, convert_to_tensor=True))\n",
    "\n",
    "concept_emb = model.encode(concept, convert_to_tensor=True)\n",
    "\n",
    "df_st[\"cos_similarity\"] = df_st[\"arab_embeddings\"].apply(lambda x: util.pytorch_cos_sim(x, concept_emb).item())\n",
    "\n",
    "df_st_sorted = df_st.sort_values(by=\"cos_similarity\", ascending=False)\n",
    "print(\"\\nTop 10 Sentence-Transformers:\")\n",
    "print(df_st_sorted[[\"text\", \"cos_similarity\"]].head(10))\n",
    "\n",
    "# model.save(\"../src/modelos/sentence_transformers_arabe_busqueda_semantica\")"
   ]
  },
  {
   "cell_type": "markdown",
   "id": "996ee453",
   "metadata": {},
   "source": [
    "## FastText Árabe"
   ]
  },
  {
   "cell_type": "markdown",
   "id": "03b2fc84",
   "metadata": {},
   "source": [
    "Ahora probaremos el mismo proceso con el modelo recomendado por nuestro profesor: 'fastText'. Como se verá en los hiperparámetros, las sub palabras hacen referencia a N-gramas de caracteres, es decir, caracteres de entre 3 a 6 letras. (hay que tener en cuenta que a diferencia de sentence-transformer, fast text devuelve vectores Numpy, y no vectores PyTorch)"
   ]
  },
  {
   "cell_type": "code",
   "execution_count": null,
   "id": "7ff48ddf",
   "metadata": {},
   "outputs": [
    {
     "name": "stderr",
     "output_type": "stream",
     "text": [
      "Read 0M words\n",
      "Number of words:  2016\n",
      "Number of labels: 0\n",
      "Progress:  90.8% words/sec/thread:   76664 lr:  0.004584 avg.loss:  2.582020 ETA:   0h 0m 0s"
     ]
    },
    {
     "name": "stdout",
     "output_type": "stream",
     "text": [
      "Top 10 FastText:\n",
      "Empty DataFrame\n",
      "Columns: [text, cos_similarity]\n",
      "Index: []\n"
     ]
    },
    {
     "name": "stderr",
     "output_type": "stream",
     "text": [
      "Progress: 100.0% words/sec/thread:   74461 lr:  0.000000 avg.loss:  2.561072 ETA:   0h 0m 0s\n"
     ]
    }
   ],
   "source": [
    "ft = fasttext.train_unsupervised(\n",
    "    input=\"../data/cleaned_data/cleaned_arab_quran.txt\",\n",
    "    model=\"skipgram\",\n",
    "    dim=300,\n",
    "    epoch=10,\n",
    "    minn=3,  # sub palabras mínimas\n",
    "    maxn=6   # sub palabras máximas\n",
    ")\n",
    "\n",
    "# ft.save_model(\"../src/modelos/fasttext_arabic_busqueda_semantica.bin\")\n",
    "\n",
    "df_ft = pd.DataFrame(lines, columns=[\"text\"])\n",
    "df_ft[\"text\"] = df_ft[\"text\"].str.strip()\n",
    "df_ft = df_ft[df_ft[\"text\"].str.contains(r\"[\\u0600-\\u06FF]\")]\n",
    "\n",
    "df_ft[\"arab_embeddings\"] = df_ft[\"text\"].apply(lambda x: ft.get_sentence_vector(x))\n",
    "\n",
    "concept_emb = ft.get_sentence_vector(concept)\n",
    "\n",
    "df_ft[\"cos_similarity\"] = df_ft[\"arab_embeddings\"].apply(\n",
    "    lambda x: cosine_similarity([x], [concept_emb])[0][0]\n",
    ")\n",
    "\n",
    "df_ft_sorted = df_ft.sort_values(by=\"cos_similarity\", ascending=False)\n",
    "print(\"Top 10 FastText:\")\n",
    "print(df_ft_sorted[[\"text\", \"cos_similarity\"]].head(10))"
   ]
  },
  {
   "cell_type": "markdown",
   "id": "1e24574f",
   "metadata": {},
   "source": [
    "Repetiremos el mismo proceso para el Corán en inglés:"
   ]
  },
  {
   "cell_type": "code",
   "execution_count": null,
   "id": "5bb5b905",
   "metadata": {},
   "outputs": [],
   "source": [
    "concept = \"Paradise\" # el mismo que antes, pero ahora en inglés"
   ]
  },
  {
   "cell_type": "markdown",
   "id": "4ed03737",
   "metadata": {},
   "source": [
    "## Sentence-transformer en inglés"
   ]
  },
  {
   "cell_type": "code",
   "execution_count": null,
   "id": "9f3cd122",
   "metadata": {},
   "outputs": [
    {
     "name": "stdout",
     "output_type": "stream",
     "text": [
      "\n",
      "Top 10 Sentence-Transformers:\n",
      "                                             text  cos_similarity\n",
      "6022                        and enter my paradise        0.519508\n",
      "6232                           the god of mankind        0.502047\n",
      "6222                     allah the eternal refuge        0.500632\n",
      "5812            and when paradise is brought near        0.445605\n",
      "4681            by the heaven containing pathways        0.439895\n",
      "2348                                        ta ha        0.434508\n",
      "5752      then indeed paradise will be his refuge        0.432990\n",
      "4739                and by the heaven raised high        0.432732\n",
      "5820  obeyed there in the heavens and trustworthy        0.430074\n",
      "5630                and when the heaven is opened        0.409571\n"
     ]
    }
   ],
   "source": [
    "model = SentenceTransformer('distiluse-base-multilingual-cased-v2')\n",
    "\n",
    "df_st = pd.DataFrame(lines, columns=[\"text\"])\n",
    "df_st[\"text\"] = df_st[\"text\"].str.strip()\n",
    "df_st = df_st[df_st[\"text\"].str.len() > 0]\n",
    "df_st[\"eng_embeddings\"] = df_st[\"text\"].apply(lambda x: model.encode(x, convert_to_tensor=True))\n",
    "\n",
    "concept_emb = model.encode(concept, convert_to_tensor=True)\n",
    "\n",
    "df_st[\"cos_similarity\"] = df_st[\"eng_embeddings\"].apply(lambda x: util.pytorch_cos_sim(x, concept_emb).item())\n",
    "\n",
    "df_st_sorted = df_st.sort_values(by=\"cos_similarity\", ascending=False)\n",
    "print(\"\\nTop 10 Sentence-Transformers:\")\n",
    "print(df_st_sorted[[\"text\", \"cos_similarity\"]].head(10))\n",
    "\n",
    "# model.save(\"../src/modelos/sentence_transformers_ingles_busqueda_semantica\")"
   ]
  },
  {
   "cell_type": "markdown",
   "id": "fc4840ed",
   "metadata": {},
   "source": [
    "## FastText en inglés"
   ]
  },
  {
   "cell_type": "code",
   "execution_count": null,
   "id": "6405405e",
   "metadata": {},
   "outputs": [
    {
     "name": "stderr",
     "output_type": "stream",
     "text": [
      "Read 0M words\n",
      "Number of words:  1924\n",
      "Number of labels: 0\n",
      "Progress: 100.0% words/sec/thread:   80674 lr:  0.000000 avg.loss:  2.548201 ETA:   0h 0m 0s100.0% words/sec/thread:   80677 lr: -0.000011 avg.loss:  2.548201 ETA:   0h 0m 0s\n"
     ]
    },
    {
     "name": "stdout",
     "output_type": "stream",
     "text": [
      "Top 10 FastText:\n",
      "                                                   text  cos_similarity\n",
      "4019  gardens of perpetual residence whose doors wil...        0.837866\n",
      "2683  who will inherit al firdaus they will abide th...        0.830502\n",
      "549   but those who believe and do righteous deeds w...        0.822044\n",
      "6022                              and enter my paradise        0.819918\n",
      "1772  and those who believed and did righteous deeds...        0.816027\n",
      "1931  gardens of perpetual residence which they will...        0.815696\n",
      "2423  gardens of perpetual residence beneath which r...        0.811306\n",
      "2617  indeed allah will admit those who believe and ...        0.804292\n",
      "1323  allah has prepared for them gardens beneath wh...        0.802924\n",
      "3692  for them are gardens of perpetual residence wh...        0.799054\n"
     ]
    }
   ],
   "source": [
    "ft = fasttext.train_unsupervised(\n",
    "    input=\"../data/cleaned_data/cleaned_english_quran.txt\",\n",
    "    model=\"skipgram\",\n",
    "    dim=300,\n",
    "    epoch=10,\n",
    "    minn=3,  # sub palabras mínimas\n",
    "    maxn=6   # sub palabras máximas\n",
    ")\n",
    "\n",
    "# ft.save_model(\"../src/modelos/fasttext_english_busqueda_seamantica.bin\")\n",
    "\n",
    "df_ft = pd.DataFrame(lines, columns=[\"text\"])\n",
    "df_ft[\"text\"] = df_ft[\"text\"].str.strip()\n",
    "\n",
    "df_ft[\"eng_embeddings\"] = df_ft[\"text\"].apply(lambda x: ft.get_sentence_vector(x))\n",
    "\n",
    "concept_emb = ft.get_sentence_vector(concept)\n",
    "\n",
    "df_ft[\"cos_similarity\"] = df_ft[\"eng_embeddings\"].apply(\n",
    "    lambda x: cosine_similarity([x], [concept_emb])[0][0]\n",
    ")\n",
    "\n",
    "df_ft_sorted = df_ft.sort_values(by=\"cos_similarity\", ascending=False)\n",
    "print(\"Top 10 FastText:\")\n",
    "print(df_ft_sorted[[\"text\", \"cos_similarity\"]].head(10))"
   ]
  },
  {
   "cell_type": "markdown",
   "id": "955c1f0d",
   "metadata": {},
   "source": [
    "# Resultados después de la comparación:\n",
    "Después de tratar con ambos idiomas y los 2 modelos, y ver que ambos devuelven pasajes similares, concluimos con que hay una diferencia abismal en cuanto a la similitud de coseno. Ya que el modelo 'fastText' obtiene mejores resultados. Por esa razón y por la recomendación del profesor, hemos decidido quedarnos con este modelo para más adelante."
   ]
  },
  {
   "cell_type": "markdown",
   "id": "b0a66bad",
   "metadata": {},
   "source": [
    "# Carga de los Modelos"
   ]
  },
  {
   "cell_type": "markdown",
   "id": "7fd92fa8",
   "metadata": {},
   "source": [
    "Sentence-transformer árabe:"
   ]
  },
  {
   "cell_type": "code",
   "execution_count": null,
   "id": "5dc94203",
   "metadata": {},
   "outputs": [],
   "source": [
    "# sentence_transformer_arabe = SentenceTransformer('distiluse-base-multilingual-cased-v2')"
   ]
  },
  {
   "cell_type": "markdown",
   "id": "48d50c06",
   "metadata": {},
   "source": [
    "Fasttext árabe:"
   ]
  },
  {
   "cell_type": "code",
   "execution_count": null,
   "id": "c1389fe9",
   "metadata": {},
   "outputs": [],
   "source": [
    "# fasttext_arabe = fasttext.load_model(\"../src/modelos/fasttext_arabic_busqueda_semantica.bin\")"
   ]
  },
  {
   "cell_type": "markdown",
   "id": "10ea90b2",
   "metadata": {},
   "source": [
    "Sentence-transformer inglés:"
   ]
  },
  {
   "cell_type": "code",
   "execution_count": null,
   "id": "6215a465",
   "metadata": {},
   "outputs": [],
   "source": [
    "# sentence_transformer_ingles = SentenceTransformer('distiluse-base-multilingual-cased-v2')"
   ]
  },
  {
   "cell_type": "markdown",
   "id": "f5562b0c",
   "metadata": {},
   "source": [
    "Fasttext inglés:"
   ]
  },
  {
   "cell_type": "code",
   "execution_count": null,
   "id": "c8416519",
   "metadata": {},
   "outputs": [],
   "source": [
    "# fasttext_ingles = fasttext.load_model(\"../src/modelos/fasttext_english_busqueda_seamantica.bin\")"
   ]
  },
  {
   "cell_type": "markdown",
   "id": "699c9dfc",
   "metadata": {},
   "source": [
    "# Visualización de los resultados:\n",
    "Después de concluir que el modelo 'FastText' rinde mucho mejor para la búsqueda semántica, vamos a visualizar los resultados obtenidos con éste. Para esto, vamos a recolectar los 5 pasajes más similares y los 5 más disimilares del Corán introducido un concepto arbitrario y luego hacer plot 3d para visualizar el espacio de los embeddings. Así podríamos apreciar que los vectores son contrarios en cierta manera. Para esto, utilizaremos PCA para reducir la dimensionalidad para una visualización mejor."
   ]
  },
  {
   "cell_type": "code",
   "execution_count": null,
   "id": "be17d6d9",
   "metadata": {},
   "outputs": [],
   "source": [
    "# Empezaremos en inglés\n",
    "concepto = \"Paradise\"\n",
    "emb_conepto = ft.get_sentence_vector(concepto)\n",
    "\n",
    "df_ft_nonempty = df_ft[df_ft[\"text\"].notna() & (df_ft[\"text\"].str.strip() != \"\")]\n",
    "# Top 5 embeddings más similares\n",
    "top_5_similares = df_ft.nlargest(5, 'cos_similarity')[[\"text\", \"eng_embeddings\", \"cos_similarity\"]]\n",
    "# Top 5 embeddings más disimilares\n",
    "top_5_disimilares = df_ft_nonempty.nsmallest(5, 'cos_similarity')[[\"text\", \"eng_embeddings\", \"cos_similarity\"]]\n",
    "\n",
    "top_5_similares[\"group\"] = \"Similar\"\n",
    "top_5_disimilares[\"group\"] = \"Diferentes\"\n",
    "\n",
    "df_concat = pd.concat([top_5_similares, top_5_disimilares], ignore_index=True)\n",
    "df_concat = pd.DataFrame(df_concat)\n",
    "\n",
    "df_concat[\"textos\"] = df_concat[\"text\"].fillna(\"\").astype(str)\n",
    "df_concat[\"tooltip\"] = df_concat[\"textos\"].apply(lambda x: x if x.strip() != \"\" else \"No hay texto\")\n",
    "embedding_matrix = np.vstack(df_concat[\"eng_embeddings\"].values)"
   ]
  },
  {
   "cell_type": "markdown",
   "id": "2f8c0360",
   "metadata": {},
   "source": [
    "Realizamos PCA para reducir la dimensionalidad y visualizar mejor en 3 dimensiones:"
   ]
  },
  {
   "cell_type": "code",
   "execution_count": null,
   "id": "81d63d3b",
   "metadata": {},
   "outputs": [],
   "source": [
    "pca = PCA(n_components=3)\n",
    "embeddings_3d = pca.fit_transform(embedding_matrix)\n",
    "df_concat[[\"x\", \"y\", \"z\"]] = embeddings_3d"
   ]
  },
  {
   "cell_type": "markdown",
   "id": "59de6c22",
   "metadata": {},
   "source": [
    "Esta línea es necesaria para evitar problemas de dependencias de librerías:"
   ]
  },
  {
   "cell_type": "code",
   "execution_count": null,
   "id": "f6b1223b",
   "metadata": {},
   "outputs": [],
   "source": [
    "import sys\n",
    "if \"narwhals\" in sys.modules:\n",
    "    del sys.modules[\"narwhals\"]"
   ]
  },
  {
   "cell_type": "markdown",
   "id": "8a5228ce",
   "metadata": {},
   "source": [
    "Visualización 3D de los embeddings"
   ]
  },
  {
   "cell_type": "code",
   "execution_count": null,
   "id": "56621a8a",
   "metadata": {},
   "outputs": [
    {
     "data": {
      "application/vnd.plotly.v1+json": {
       "config": {
        "plotlyServerURL": "https://plot.ly"
       },
       "data": [
        {
         "hovertemplate": "<b>%{hovertext}</b><br><br>group=Similar<br>x=%{x}<br>y=%{y}<br>z=%{z}<extra></extra>",
         "hovertext": [
          "gardens of perpetual residence whose doors will be opened to them",
          "who will inherit al firdaus they will abide therein eternally",
          "but those who believe and do righteous deeds we will admit them to gardens beneath which rivers flow wherein they abide forever for them therein are purified spouses and we will admit them to deepening shade",
          "and enter my paradise",
          "and those who believed and did righteous deeds will be admitted to gardens beneath which rivers flow abiding eternally therein by permission of their lord and their greeting therein will be peace"
         ],
         "legendgroup": "Similar",
         "marker": {
          "color": "#636efa",
          "symbol": "circle"
         },
         "mode": "markers",
         "name": "Similar",
         "scene": "scene",
         "showlegend": true,
         "type": "scatter3d",
         "x": {
          "bdata": "O2rdPk+mwT49H8A+Avi4PiMUvz4=",
          "dtype": "f4"
         },
         "y": {
          "bdata": "n0CtPS+BFD4p5PQ9E4xRPWTgAD4=",
          "dtype": "f4"
         },
         "z": {
          "bdata": "qIZYvIBqmjztS8i8ld8UvTmcDbs=",
          "dtype": "f4"
         }
        },
        {
         "hovertemplate": "<b>%{hovertext}</b><br><br>group=Diferentes<br>x=%{x}<br>y=%{y}<br>z=%{z}<extra></extra>",
         "hovertext": [
          "created man",
          "ya seen",
          "alif lam meem",
          "alif lam meem",
          "alif lam meem"
         ],
         "legendgroup": "Diferentes",
         "marker": {
          "color": "#EF553B",
          "symbol": "circle"
         },
         "mode": "markers",
         "name": "Diferentes",
         "scene": "scene",
         "showlegend": true,
         "type": "scatter3d",
         "x": {
          "bdata": "CgpLvWJTC74oCBS/KAgUvyYIFL8=",
          "dtype": "f4"
         },
         "y": {
          "bdata": "yD8mv+9kvL7/pSc+AKYnPgGmJz4=",
          "dtype": "f4"
         },
         "z": {
          "bdata": "qRqtvpg7Bz+YXTW9m101vZBdNb0=",
          "dtype": "f4"
         }
        }
       ],
       "layout": {
        "legend": {
         "title": {
          "text": "Grupo"
         },
         "tracegroupgap": 0
        },
        "scene": {
         "domain": {
          "x": [
           0,
           1
          ],
          "y": [
           0,
           1
          ]
         },
         "xaxis": {
          "title": {
           "text": "X"
          }
         },
         "yaxis": {
          "title": {
           "text": "Y"
          }
         },
         "zaxis": {
          "title": {
           "text": "Z"
          }
         }
        },
        "template": {
         "data": {
          "bar": [
           {
            "error_x": {
             "color": "#2a3f5f"
            },
            "error_y": {
             "color": "#2a3f5f"
            },
            "marker": {
             "line": {
              "color": "#E5ECF6",
              "width": 0.5
             },
             "pattern": {
              "fillmode": "overlay",
              "size": 10,
              "solidity": 0.2
             }
            },
            "type": "bar"
           }
          ],
          "barpolar": [
           {
            "marker": {
             "line": {
              "color": "#E5ECF6",
              "width": 0.5
             },
             "pattern": {
              "fillmode": "overlay",
              "size": 10,
              "solidity": 0.2
             }
            },
            "type": "barpolar"
           }
          ],
          "carpet": [
           {
            "aaxis": {
             "endlinecolor": "#2a3f5f",
             "gridcolor": "white",
             "linecolor": "white",
             "minorgridcolor": "white",
             "startlinecolor": "#2a3f5f"
            },
            "baxis": {
             "endlinecolor": "#2a3f5f",
             "gridcolor": "white",
             "linecolor": "white",
             "minorgridcolor": "white",
             "startlinecolor": "#2a3f5f"
            },
            "type": "carpet"
           }
          ],
          "choropleth": [
           {
            "colorbar": {
             "outlinewidth": 0,
             "ticks": ""
            },
            "type": "choropleth"
           }
          ],
          "contour": [
           {
            "colorbar": {
             "outlinewidth": 0,
             "ticks": ""
            },
            "colorscale": [
             [
              0,
              "#0d0887"
             ],
             [
              0.1111111111111111,
              "#46039f"
             ],
             [
              0.2222222222222222,
              "#7201a8"
             ],
             [
              0.3333333333333333,
              "#9c179e"
             ],
             [
              0.4444444444444444,
              "#bd3786"
             ],
             [
              0.5555555555555556,
              "#d8576b"
             ],
             [
              0.6666666666666666,
              "#ed7953"
             ],
             [
              0.7777777777777778,
              "#fb9f3a"
             ],
             [
              0.8888888888888888,
              "#fdca26"
             ],
             [
              1,
              "#f0f921"
             ]
            ],
            "type": "contour"
           }
          ],
          "contourcarpet": [
           {
            "colorbar": {
             "outlinewidth": 0,
             "ticks": ""
            },
            "type": "contourcarpet"
           }
          ],
          "heatmap": [
           {
            "colorbar": {
             "outlinewidth": 0,
             "ticks": ""
            },
            "colorscale": [
             [
              0,
              "#0d0887"
             ],
             [
              0.1111111111111111,
              "#46039f"
             ],
             [
              0.2222222222222222,
              "#7201a8"
             ],
             [
              0.3333333333333333,
              "#9c179e"
             ],
             [
              0.4444444444444444,
              "#bd3786"
             ],
             [
              0.5555555555555556,
              "#d8576b"
             ],
             [
              0.6666666666666666,
              "#ed7953"
             ],
             [
              0.7777777777777778,
              "#fb9f3a"
             ],
             [
              0.8888888888888888,
              "#fdca26"
             ],
             [
              1,
              "#f0f921"
             ]
            ],
            "type": "heatmap"
           }
          ],
          "histogram": [
           {
            "marker": {
             "pattern": {
              "fillmode": "overlay",
              "size": 10,
              "solidity": 0.2
             }
            },
            "type": "histogram"
           }
          ],
          "histogram2d": [
           {
            "colorbar": {
             "outlinewidth": 0,
             "ticks": ""
            },
            "colorscale": [
             [
              0,
              "#0d0887"
             ],
             [
              0.1111111111111111,
              "#46039f"
             ],
             [
              0.2222222222222222,
              "#7201a8"
             ],
             [
              0.3333333333333333,
              "#9c179e"
             ],
             [
              0.4444444444444444,
              "#bd3786"
             ],
             [
              0.5555555555555556,
              "#d8576b"
             ],
             [
              0.6666666666666666,
              "#ed7953"
             ],
             [
              0.7777777777777778,
              "#fb9f3a"
             ],
             [
              0.8888888888888888,
              "#fdca26"
             ],
             [
              1,
              "#f0f921"
             ]
            ],
            "type": "histogram2d"
           }
          ],
          "histogram2dcontour": [
           {
            "colorbar": {
             "outlinewidth": 0,
             "ticks": ""
            },
            "colorscale": [
             [
              0,
              "#0d0887"
             ],
             [
              0.1111111111111111,
              "#46039f"
             ],
             [
              0.2222222222222222,
              "#7201a8"
             ],
             [
              0.3333333333333333,
              "#9c179e"
             ],
             [
              0.4444444444444444,
              "#bd3786"
             ],
             [
              0.5555555555555556,
              "#d8576b"
             ],
             [
              0.6666666666666666,
              "#ed7953"
             ],
             [
              0.7777777777777778,
              "#fb9f3a"
             ],
             [
              0.8888888888888888,
              "#fdca26"
             ],
             [
              1,
              "#f0f921"
             ]
            ],
            "type": "histogram2dcontour"
           }
          ],
          "mesh3d": [
           {
            "colorbar": {
             "outlinewidth": 0,
             "ticks": ""
            },
            "type": "mesh3d"
           }
          ],
          "parcoords": [
           {
            "line": {
             "colorbar": {
              "outlinewidth": 0,
              "ticks": ""
             }
            },
            "type": "parcoords"
           }
          ],
          "pie": [
           {
            "automargin": true,
            "type": "pie"
           }
          ],
          "scatter": [
           {
            "fillpattern": {
             "fillmode": "overlay",
             "size": 10,
             "solidity": 0.2
            },
            "type": "scatter"
           }
          ],
          "scatter3d": [
           {
            "line": {
             "colorbar": {
              "outlinewidth": 0,
              "ticks": ""
             }
            },
            "marker": {
             "colorbar": {
              "outlinewidth": 0,
              "ticks": ""
             }
            },
            "type": "scatter3d"
           }
          ],
          "scattercarpet": [
           {
            "marker": {
             "colorbar": {
              "outlinewidth": 0,
              "ticks": ""
             }
            },
            "type": "scattercarpet"
           }
          ],
          "scattergeo": [
           {
            "marker": {
             "colorbar": {
              "outlinewidth": 0,
              "ticks": ""
             }
            },
            "type": "scattergeo"
           }
          ],
          "scattergl": [
           {
            "marker": {
             "colorbar": {
              "outlinewidth": 0,
              "ticks": ""
             }
            },
            "type": "scattergl"
           }
          ],
          "scattermap": [
           {
            "marker": {
             "colorbar": {
              "outlinewidth": 0,
              "ticks": ""
             }
            },
            "type": "scattermap"
           }
          ],
          "scattermapbox": [
           {
            "marker": {
             "colorbar": {
              "outlinewidth": 0,
              "ticks": ""
             }
            },
            "type": "scattermapbox"
           }
          ],
          "scatterpolar": [
           {
            "marker": {
             "colorbar": {
              "outlinewidth": 0,
              "ticks": ""
             }
            },
            "type": "scatterpolar"
           }
          ],
          "scatterpolargl": [
           {
            "marker": {
             "colorbar": {
              "outlinewidth": 0,
              "ticks": ""
             }
            },
            "type": "scatterpolargl"
           }
          ],
          "scatterternary": [
           {
            "marker": {
             "colorbar": {
              "outlinewidth": 0,
              "ticks": ""
             }
            },
            "type": "scatterternary"
           }
          ],
          "surface": [
           {
            "colorbar": {
             "outlinewidth": 0,
             "ticks": ""
            },
            "colorscale": [
             [
              0,
              "#0d0887"
             ],
             [
              0.1111111111111111,
              "#46039f"
             ],
             [
              0.2222222222222222,
              "#7201a8"
             ],
             [
              0.3333333333333333,
              "#9c179e"
             ],
             [
              0.4444444444444444,
              "#bd3786"
             ],
             [
              0.5555555555555556,
              "#d8576b"
             ],
             [
              0.6666666666666666,
              "#ed7953"
             ],
             [
              0.7777777777777778,
              "#fb9f3a"
             ],
             [
              0.8888888888888888,
              "#fdca26"
             ],
             [
              1,
              "#f0f921"
             ]
            ],
            "type": "surface"
           }
          ],
          "table": [
           {
            "cells": {
             "fill": {
              "color": "#EBF0F8"
             },
             "line": {
              "color": "white"
             }
            },
            "header": {
             "fill": {
              "color": "#C8D4E3"
             },
             "line": {
              "color": "white"
             }
            },
            "type": "table"
           }
          ]
         },
         "layout": {
          "annotationdefaults": {
           "arrowcolor": "#2a3f5f",
           "arrowhead": 0,
           "arrowwidth": 1
          },
          "autotypenumbers": "strict",
          "coloraxis": {
           "colorbar": {
            "outlinewidth": 0,
            "ticks": ""
           }
          },
          "colorscale": {
           "diverging": [
            [
             0,
             "#8e0152"
            ],
            [
             0.1,
             "#c51b7d"
            ],
            [
             0.2,
             "#de77ae"
            ],
            [
             0.3,
             "#f1b6da"
            ],
            [
             0.4,
             "#fde0ef"
            ],
            [
             0.5,
             "#f7f7f7"
            ],
            [
             0.6,
             "#e6f5d0"
            ],
            [
             0.7,
             "#b8e186"
            ],
            [
             0.8,
             "#7fbc41"
            ],
            [
             0.9,
             "#4d9221"
            ],
            [
             1,
             "#276419"
            ]
           ],
           "sequential": [
            [
             0,
             "#0d0887"
            ],
            [
             0.1111111111111111,
             "#46039f"
            ],
            [
             0.2222222222222222,
             "#7201a8"
            ],
            [
             0.3333333333333333,
             "#9c179e"
            ],
            [
             0.4444444444444444,
             "#bd3786"
            ],
            [
             0.5555555555555556,
             "#d8576b"
            ],
            [
             0.6666666666666666,
             "#ed7953"
            ],
            [
             0.7777777777777778,
             "#fb9f3a"
            ],
            [
             0.8888888888888888,
             "#fdca26"
            ],
            [
             1,
             "#f0f921"
            ]
           ],
           "sequentialminus": [
            [
             0,
             "#0d0887"
            ],
            [
             0.1111111111111111,
             "#46039f"
            ],
            [
             0.2222222222222222,
             "#7201a8"
            ],
            [
             0.3333333333333333,
             "#9c179e"
            ],
            [
             0.4444444444444444,
             "#bd3786"
            ],
            [
             0.5555555555555556,
             "#d8576b"
            ],
            [
             0.6666666666666666,
             "#ed7953"
            ],
            [
             0.7777777777777778,
             "#fb9f3a"
            ],
            [
             0.8888888888888888,
             "#fdca26"
            ],
            [
             1,
             "#f0f921"
            ]
           ]
          },
          "colorway": [
           "#636efa",
           "#EF553B",
           "#00cc96",
           "#ab63fa",
           "#FFA15A",
           "#19d3f3",
           "#FF6692",
           "#B6E880",
           "#FF97FF",
           "#FECB52"
          ],
          "font": {
           "color": "#2a3f5f"
          },
          "geo": {
           "bgcolor": "white",
           "lakecolor": "white",
           "landcolor": "#E5ECF6",
           "showlakes": true,
           "showland": true,
           "subunitcolor": "white"
          },
          "hoverlabel": {
           "align": "left"
          },
          "hovermode": "closest",
          "mapbox": {
           "style": "light"
          },
          "paper_bgcolor": "white",
          "plot_bgcolor": "#E5ECF6",
          "polar": {
           "angularaxis": {
            "gridcolor": "white",
            "linecolor": "white",
            "ticks": ""
           },
           "bgcolor": "#E5ECF6",
           "radialaxis": {
            "gridcolor": "white",
            "linecolor": "white",
            "ticks": ""
           }
          },
          "scene": {
           "xaxis": {
            "backgroundcolor": "#E5ECF6",
            "gridcolor": "white",
            "gridwidth": 2,
            "linecolor": "white",
            "showbackground": true,
            "ticks": "",
            "zerolinecolor": "white"
           },
           "yaxis": {
            "backgroundcolor": "#E5ECF6",
            "gridcolor": "white",
            "gridwidth": 2,
            "linecolor": "white",
            "showbackground": true,
            "ticks": "",
            "zerolinecolor": "white"
           },
           "zaxis": {
            "backgroundcolor": "#E5ECF6",
            "gridcolor": "white",
            "gridwidth": 2,
            "linecolor": "white",
            "showbackground": true,
            "ticks": "",
            "zerolinecolor": "white"
           }
          },
          "shapedefaults": {
           "line": {
            "color": "#2a3f5f"
           }
          },
          "ternary": {
           "aaxis": {
            "gridcolor": "white",
            "linecolor": "white",
            "ticks": ""
           },
           "baxis": {
            "gridcolor": "white",
            "linecolor": "white",
            "ticks": ""
           },
           "bgcolor": "#E5ECF6",
           "caxis": {
            "gridcolor": "white",
            "linecolor": "white",
            "ticks": ""
           }
          },
          "title": {
           "x": 0.05
          },
          "xaxis": {
           "automargin": true,
           "gridcolor": "white",
           "linecolor": "white",
           "ticks": "",
           "title": {
            "standoff": 15
           },
           "zerolinecolor": "white",
           "zerolinewidth": 2
          },
          "yaxis": {
           "automargin": true,
           "gridcolor": "white",
           "linecolor": "white",
           "ticks": "",
           "title": {
            "standoff": 15
           },
           "zerolinecolor": "white",
           "zerolinewidth": 2
          }
         }
        },
        "title": {
         "text": "Visualización en 3 dimensiones de los 5 embeddings más similares y disimilares del concepto: 'Paradise'"
        }
       }
      }
     },
     "metadata": {},
     "output_type": "display_data"
    }
   ],
   "source": [
    "fig = px.scatter_3d(\n",
    "    df_concat,\n",
    "    x=\"x\",\n",
    "    y=\"y\",\n",
    "    z=\"z\",\n",
    "    color=\"group\",\n",
    "    hover_name=\"textos\",  \n",
    "    size_max=10,\n",
    "    title=f\"Visualización en 3 dimensiones de los 5 embeddings más similares y disimilares del concepto: '{concepto}'\"\n",
    ")\n",
    "\n",
    "fig.update_layout(\n",
    "    scene=dict(\n",
    "        xaxis_title='X',\n",
    "        yaxis_title='Y',\n",
    "        zaxis_title='Z'\n",
    "    ),\n",
    "    legend_title_text='Grupo'\n",
    ")\n",
    "\n",
    "fig.show()\n"
   ]
  },
  {
   "cell_type": "markdown",
   "id": "b33952f2",
   "metadata": {},
   "source": [
    "Visualización 2D de los embeddings"
   ]
  },
  {
   "cell_type": "code",
   "execution_count": null,
   "id": "5a4a8310",
   "metadata": {},
   "outputs": [
    {
     "data": {
      "text/html": [
       "\n",
       "<style>\n",
       "  #altair-viz-98377473c23d48d0b865a7dd9d1181ff.vega-embed {\n",
       "    width: 100%;\n",
       "    display: flex;\n",
       "  }\n",
       "\n",
       "  #altair-viz-98377473c23d48d0b865a7dd9d1181ff.vega-embed details,\n",
       "  #altair-viz-98377473c23d48d0b865a7dd9d1181ff.vega-embed details summary {\n",
       "    position: relative;\n",
       "  }\n",
       "</style>\n",
       "<div id=\"altair-viz-98377473c23d48d0b865a7dd9d1181ff\"></div>\n",
       "<script type=\"text/javascript\">\n",
       "  var VEGA_DEBUG = (typeof VEGA_DEBUG == \"undefined\") ? {} : VEGA_DEBUG;\n",
       "  (function(spec, embedOpt){\n",
       "    let outputDiv = document.currentScript.previousElementSibling;\n",
       "    if (outputDiv.id !== \"altair-viz-98377473c23d48d0b865a7dd9d1181ff\") {\n",
       "      outputDiv = document.getElementById(\"altair-viz-98377473c23d48d0b865a7dd9d1181ff\");\n",
       "    }\n",
       "\n",
       "    const paths = {\n",
       "      \"vega\": \"https://cdn.jsdelivr.net/npm/vega@5?noext\",\n",
       "      \"vega-lib\": \"https://cdn.jsdelivr.net/npm/vega-lib?noext\",\n",
       "      \"vega-lite\": \"https://cdn.jsdelivr.net/npm/vega-lite@5.20.1?noext\",\n",
       "      \"vega-embed\": \"https://cdn.jsdelivr.net/npm/vega-embed@6?noext\",\n",
       "    };\n",
       "\n",
       "    function maybeLoadScript(lib, version) {\n",
       "      var key = `${lib.replace(\"-\", \"\")}_version`;\n",
       "      return (VEGA_DEBUG[key] == version) ?\n",
       "        Promise.resolve(paths[lib]) :\n",
       "        new Promise(function(resolve, reject) {\n",
       "          var s = document.createElement('script');\n",
       "          document.getElementsByTagName(\"head\")[0].appendChild(s);\n",
       "          s.async = true;\n",
       "          s.onload = () => {\n",
       "            VEGA_DEBUG[key] = version;\n",
       "            return resolve(paths[lib]);\n",
       "          };\n",
       "          s.onerror = () => reject(`Error loading script: ${paths[lib]}`);\n",
       "          s.src = paths[lib];\n",
       "        });\n",
       "    }\n",
       "\n",
       "    function showError(err) {\n",
       "      outputDiv.innerHTML = `<div class=\"error\" style=\"color:red;\">${err}</div>`;\n",
       "      throw err;\n",
       "    }\n",
       "\n",
       "    function displayChart(vegaEmbed) {\n",
       "      vegaEmbed(outputDiv, spec, embedOpt)\n",
       "        .catch(err => showError(`Javascript Error: ${err.message}<br>This usually means there's a typo in your chart specification. See the javascript console for the full traceback.`));\n",
       "    }\n",
       "\n",
       "    if(typeof define === \"function\" && define.amd) {\n",
       "      requirejs.config({paths});\n",
       "      let deps = [\"vega-embed\"];\n",
       "      require(deps, displayChart, err => showError(`Error loading script: ${err.message}`));\n",
       "    } else {\n",
       "      maybeLoadScript(\"vega\", \"5\")\n",
       "        .then(() => maybeLoadScript(\"vega-lite\", \"5.20.1\"))\n",
       "        .then(() => maybeLoadScript(\"vega-embed\", \"6\"))\n",
       "        .catch(showError)\n",
       "        .then(() => displayChart(vegaEmbed));\n",
       "    }\n",
       "  })({\"config\": {\"view\": {\"continuousWidth\": 300, \"continuousHeight\": 300}}, \"data\": {\"name\": \"data-14cecdd698cd20da625dc1aa185d876f\"}, \"mark\": {\"type\": \"circle\", \"size\": 100}, \"encoding\": {\"color\": {\"field\": \"group\", \"type\": \"nominal\"}, \"tooltip\": [{\"field\": \"textos\", \"type\": \"nominal\"}, {\"field\": \"group\", \"type\": \"nominal\"}], \"x\": {\"field\": \"x\", \"type\": \"quantitative\"}, \"y\": {\"field\": \"y\", \"type\": \"quantitative\"}}, \"params\": [{\"name\": \"param_1\", \"select\": {\"type\": \"interval\", \"encodings\": [\"x\", \"y\"]}, \"bind\": \"scales\"}], \"title\": \"Visualizaci\\u00f3n con UMAP de los 5 embeddings m\\u00e1s similares y disimilares a 'Paradise'\", \"$schema\": \"https://vega.github.io/schema/vega-lite/v5.20.1.json\", \"datasets\": {\"data-14cecdd698cd20da625dc1aa185d876f\": [{\"textos\": \"gardens of perpetual residence whose doors will be opened to them\", \"x\": 1.4140334129333496, \"y\": -2.810239791870117, \"group\": \"Similar\"}, {\"textos\": \"who will inherit al firdaus they will abide therein eternally\", \"x\": 1.989427924156189, \"y\": -2.4809179306030273, \"group\": \"Similar\"}, {\"textos\": \"but those who believe and do righteous deeds we will admit them to gardens beneath which rivers flow wherein they abide forever for them therein are purified spouses and we will admit them to deepening shade\", \"x\": 1.883142352104187, \"y\": -1.7264832258224487, \"group\": \"Similar\"}, {\"textos\": \"and enter my paradise\", \"x\": 0.7417894005775452, \"y\": -2.144158363342285, \"group\": \"Similar\"}, {\"textos\": \"and those who believed and did righteous deeds will be admitted to gardens beneath which rivers flow abiding eternally therein by permission of their lord and their greeting therein will be peace\", \"x\": 1.1936997175216675, \"y\": -1.6430155038833618, \"group\": \"Similar\"}, {\"textos\": \"created man\", \"x\": 1.8478331565856934, \"y\": -0.2877931296825409, \"group\": \"Diferentes\"}, {\"textos\": \"ya seen\", \"x\": 2.2210142612457275, \"y\": 0.5844920873641968, \"group\": \"Diferentes\"}, {\"textos\": \"alif lam meem\", \"x\": 3.4180595874786377, \"y\": 0.5623722672462463, \"group\": \"Diferentes\"}, {\"textos\": \"alif lam meem\", \"x\": 3.3223037719726562, \"y\": 1.3777813911437988, \"group\": \"Diferentes\"}, {\"textos\": \"alif lam meem\", \"x\": 2.832266092300415, \"y\": 0.9352859258651733, \"group\": \"Diferentes\"}]}}, {\"mode\": \"vega-lite\"});\n",
       "</script>"
      ],
      "text/plain": [
       "alt.Chart(...)"
      ]
     },
     "execution_count": 18,
     "metadata": {},
     "output_type": "execute_result"
    }
   ],
   "source": [
    "textos = df_concat[\"text\"].tolist()\n",
    "embeddings_2d = df_concat[\"eng_embeddings\"].tolist()\n",
    "\n",
    "reducer = umap.UMAP(n_neighbors=5) # Número de vecinos = 5 para los 5 más similares y 5 más disimilares\n",
    "umap_embeddings = reducer.fit_transform(embeddings_2d)\n",
    "\n",
    "df_umap = pd.DataFrame({\"textos\": textos,\n",
    "                        \"x\": umap_embeddings[:, 0],\n",
    "                        \"y\": umap_embeddings[:, 1],\n",
    "                        \"group\": df_concat[\"group\"]})\n",
    "\n",
    "plot_umap = (\n",
    "    alt.Chart(df_umap).mark_circle(size=100).encode(x=\"x\", y=\"y\", color=\"group\", tooltip=[\"textos\", \"group\"])\n",
    "    .properties(title=f\"Visualización con UMAP de los 5 embeddings más similares y disimilares a '{concepto}'\")\n",
    ")\n",
    "\n",
    "plot_umap.interactive()"
   ]
  },
  {
   "cell_type": "markdown",
   "id": "1421f36d",
   "metadata": {},
   "source": [
    "Heatmap de los pasajes"
   ]
  },
  {
   "cell_type": "code",
   "execution_count": null,
   "id": "8a1f687a",
   "metadata": {},
   "outputs": [
    {
     "data": {
      "text/plain": [
       "Text(0.5, 1.0, \"Matriz de similitud de coseno entre los 5 embeddings de los pasajes más similares y disimilares con el concepto: 'Paradise'\")"
      ]
     },
     "execution_count": 19,
     "metadata": {},
     "output_type": "execute_result"
    },
    {
     "data": {
      "image/png": "[encoded data removed]",
      "text/plain": [
       "<Figure size 1000x800 with 2 Axes>"
      ]
     },
     "metadata": {},
     "output_type": "display_data"
    }
   ],
   "source": [
    "similarity_matrix = np.vstack(df_concat[\"eng_embeddings\"].values)\n",
    "similarity_matrix = cosine_similarity(similarity_matrix)\n",
    "textos = df_concat[\"text\"].tolist()\n",
    "\n",
    "plt.figure(figsize=(10, 8))\n",
    "sns.heatmap(similarity_matrix, xticklabels=textos, yticklabels=textos, cmap='viridis', annot=True)\n",
    "plt.title(f\"Matriz de similitud de coseno entre los 5 embeddings de los pasajes más similares y disimilares con el concepto: '{concepto}'\")"
   ]
  }
 ],
 "metadata": {
  "kernelspec": {
   "display_name": "coran-nlp",
   "language": "python",
   "name": "python3"
  },
  "language_info": {
   "codemirror_mode": {
    "name": "ipython",
    "version": 3
   },
   "file_extension": ".py",
   "mimetype": "text/x-python",
   "name": "python",
   "nbconvert_exporter": "python",
   "pygments_lexer": "ipython3",
   "version": "3.11.13"
  }
 },
 "nbformat": 4,
 "nbformat_minor": 5
}
