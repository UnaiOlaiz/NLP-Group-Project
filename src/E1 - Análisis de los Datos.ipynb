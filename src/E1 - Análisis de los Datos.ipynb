{
 "cells": [
  {
   "cell_type": "markdown",
   "id": "5315d588",
   "metadata": {},
   "source": [
    "# Análisis de los Datos del Corán\n",
    "\n",
    "Este notebook contiene un análisis exploratorio de los datos del proyecto, incluyendo estadísticas descriptivas y visualizaciones para el Corán en árabe e inglés necesarias para la primera entrega del proyecto."
   ]
  },
  {
   "cell_type": "code",
   "execution_count": null,
   "id": "0a8c4e0b",
   "metadata": {
    "vscode": {
     "languageId": "plaintext"
    }
   },
   "outputs": [],
   "source": [
    "import pandas as pd"
   ]
  },
  {
   "cell_type": "code",
   "execution_count": null,
   "id": "1a2f04cd",
   "metadata": {
    "vscode": {
     "languageId": "plaintext"
    }
   },
   "outputs": [],
   "source": []
  }
 ],
 "metadata": {
  "language_info": {
   "name": "python"
  }
 },
 "nbformat": 4,
 "nbformat_minor": 5
}
