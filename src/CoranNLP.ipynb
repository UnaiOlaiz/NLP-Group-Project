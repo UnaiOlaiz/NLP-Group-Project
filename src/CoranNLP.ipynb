{
 "cells": [
  {
   "cell_type": "markdown",
   "id": "d5909b17",
   "metadata": {},
   "source": [
    "# Libererías necesarias"
   ]
  },
  {
   "cell_type": "code",
   "execution_count": 13,
   "id": "83dc8f3f",
   "metadata": {},
   "outputs": [],
   "source": [
    "import pandas as pd\n",
    "from sentence_transformers import SentenceTransformer, util"
   ]
  },
  {
   "cell_type": "markdown",
   "id": "4980cbf4",
   "metadata": {},
   "source": [
    "# Análisis del Quran en Árabe"
   ]
  },
  {
   "cell_type": "markdown",
   "id": "7fabf1d1",
   "metadata": {},
   "source": [
    "Primero importamos el dataset que hemos limpiado con la función anteriormente creada"
   ]
  },
  {
   "cell_type": "code",
   "execution_count": 5,
   "id": "b005d507",
   "metadata": {},
   "outputs": [
    {
     "data": {
      "text/html": [
       "<div>\n",
       "<style scoped>\n",
       "    .dataframe tbody tr th:only-of-type {\n",
       "        vertical-align: middle;\n",
       "    }\n",
       "\n",
       "    .dataframe tbody tr th {\n",
       "        vertical-align: top;\n",
       "    }\n",
       "\n",
       "    .dataframe thead th {\n",
       "        text-align: right;\n",
       "    }\n",
       "</style>\n",
       "<table border=\"1\" class=\"dataframe\">\n",
       "  <thead>\n",
       "    <tr style=\"text-align: right;\">\n",
       "      <th></th>\n",
       "      <th>text</th>\n",
       "    </tr>\n",
       "  </thead>\n",
       "  <tbody>\n",
       "    <tr>\n",
       "      <th>0</th>\n",
       "      <td>بسم الله الرحمن الرحيم</td>\n",
       "    </tr>\n",
       "    <tr>\n",
       "      <th>1</th>\n",
       "      <td>الحمد لله رب العالمين</td>\n",
       "    </tr>\n",
       "    <tr>\n",
       "      <th>2</th>\n",
       "      <td>الرحمن الرحيم</td>\n",
       "    </tr>\n",
       "    <tr>\n",
       "      <th>3</th>\n",
       "      <td>مالك يوم الدين</td>\n",
       "    </tr>\n",
       "    <tr>\n",
       "      <th>4</th>\n",
       "      <td>اياك نعبد واياك نستعين</td>\n",
       "    </tr>\n",
       "  </tbody>\n",
       "</table>\n",
       "</div>"
      ],
      "text/plain": [
       "                     text\n",
       "0  بسم الله الرحمن الرحيم\n",
       "1   الحمد لله رب العالمين\n",
       "2           الرحمن الرحيم\n",
       "3          مالك يوم الدين\n",
       "4  اياك نعبد واياك نستعين"
      ]
     },
     "execution_count": 5,
     "metadata": {},
     "output_type": "execute_result"
    }
   ],
   "source": [
    "with open(\"/home/unaiolaizolaosa/Dokumentuak/NLP-Group-Project/data/cleaned_data/cleaned_arab_quran.txt\", encoding=\"utf-8\") as f:\n",
    "    lines = f.readlines()\n",
    "\n",
    "df = pd.DataFrame(lines, columns=[\"text\"])\n",
    "df[\"text\"] = df[\"text\"].str.strip()\n",
    "\n",
    "df.head()"
   ]
  },
  {
   "cell_type": "markdown",
   "id": "92f0f2b4",
   "metadata": {},
   "source": [
    "Importamos el sentence-transformer que vamos a usar para ambos idiomas, ya que éste es multilingüe"
   ]
  },
  {
   "cell_type": "code",
   "execution_count": 10,
   "id": "45e0a687",
   "metadata": {},
   "outputs": [],
   "source": [
    "model = SentenceTransformer('sentence-transformers/all-MiniLM-L6-v2')"
   ]
  },
  {
   "cell_type": "markdown",
   "id": "7efe9b2b",
   "metadata": {},
   "source": [
    "Y ahora creamos los embeddings"
   ]
  },
  {
   "cell_type": "code",
   "execution_count": 11,
   "id": "f3b84712",
   "metadata": {},
   "outputs": [],
   "source": [
    "df[\"arab_embeddings\"] = df[\"text\"].apply(lambda x: model.encode(x, convert_to_tensor=True))"
   ]
  },
  {
   "cell_type": "markdown",
   "id": "4421ef08",
   "metadata": {},
   "source": [
    "Now we can see the applied arab embeddings"
   ]
  },
  {
   "cell_type": "code",
   "execution_count": 12,
   "id": "61ec230f",
   "metadata": {},
   "outputs": [
    {
     "data": {
      "text/html": [
       "<div>\n",
       "<style scoped>\n",
       "    .dataframe tbody tr th:only-of-type {\n",
       "        vertical-align: middle;\n",
       "    }\n",
       "\n",
       "    .dataframe tbody tr th {\n",
       "        vertical-align: top;\n",
       "    }\n",
       "\n",
       "    .dataframe thead th {\n",
       "        text-align: right;\n",
       "    }\n",
       "</style>\n",
       "<table border=\"1\" class=\"dataframe\">\n",
       "  <thead>\n",
       "    <tr style=\"text-align: right;\">\n",
       "      <th></th>\n",
       "      <th>text</th>\n",
       "      <th>arab_embeddings</th>\n",
       "    </tr>\n",
       "  </thead>\n",
       "  <tbody>\n",
       "    <tr>\n",
       "      <th>0</th>\n",
       "      <td>بسم الله الرحمن الرحيم</td>\n",
       "      <td>[tensor(0.0345), tensor(0.1068), tensor(-0.004...</td>\n",
       "    </tr>\n",
       "    <tr>\n",
       "      <th>1</th>\n",
       "      <td>الحمد لله رب العالمين</td>\n",
       "      <td>[tensor(-0.0128), tensor(0.1051), tensor(-0.01...</td>\n",
       "    </tr>\n",
       "    <tr>\n",
       "      <th>2</th>\n",
       "      <td>الرحمن الرحيم</td>\n",
       "      <td>[tensor(0.0336), tensor(0.1019), tensor(0.0427...</td>\n",
       "    </tr>\n",
       "    <tr>\n",
       "      <th>3</th>\n",
       "      <td>مالك يوم الدين</td>\n",
       "      <td>[tensor(0.0297), tensor(0.1338), tensor(0.0075...</td>\n",
       "    </tr>\n",
       "    <tr>\n",
       "      <th>4</th>\n",
       "      <td>اياك نعبد واياك نستعين</td>\n",
       "      <td>[tensor(0.0209), tensor(0.0914), tensor(-0.024...</td>\n",
       "    </tr>\n",
       "  </tbody>\n",
       "</table>\n",
       "</div>"
      ],
      "text/plain": [
       "                     text                                    arab_embeddings\n",
       "0  بسم الله الرحمن الرحيم  [tensor(0.0345), tensor(0.1068), tensor(-0.004...\n",
       "1   الحمد لله رب العالمين  [tensor(-0.0128), tensor(0.1051), tensor(-0.01...\n",
       "2           الرحمن الرحيم  [tensor(0.0336), tensor(0.1019), tensor(0.0427...\n",
       "3          مالك يوم الدين  [tensor(0.0297), tensor(0.1338), tensor(0.0075...\n",
       "4  اياك نعبد واياك نستعين  [tensor(0.0209), tensor(0.0914), tensor(-0.024..."
      ]
     },
     "execution_count": 12,
     "metadata": {},
     "output_type": "execute_result"
    }
   ],
   "source": [
    "df.head()"
   ]
  },
  {
   "cell_type": "markdown",
   "id": "495b2073",
   "metadata": {},
   "source": [
    "Ahora probamos la búsqueda semántica por concepto, vamos a usar la similitud de coseno"
   ]
  },
  {
   "cell_type": "code",
   "execution_count": 18,
   "id": "e0459583",
   "metadata": {},
   "outputs": [
    {
     "name": "stdout",
     "output_type": "stream",
     "text": [
      "                                                   text  cos_similarity\n",
      "2535                      قالوا وجدنا اباءنا لها عابدين        0.324614\n",
      "2981                  قالوا لا ضير انا الي ربنا منقلبون        0.301542\n",
      "1656                 قالوا سنراود عنه اباه وانا لفاعلون        0.300278\n",
      "4030  قالوا ربنا من قدم لنا هذا فزده عذابا ضعفا في ا...        0.290535\n",
      "2778       قالوا ربنا غلبت علينا شقوتنا وكنا قوما ضالين        0.283041\n",
      "5015                                        عربا اترابا        0.279399\n",
      "4910                                والارض وضعها للانام        0.272819\n",
      "4036                                     قل هو نبا عظيم        0.272353\n",
      "1594                               وانتظروا انا منتظرون        0.271314\n",
      "5982                                      وزرابي مبثوثه        0.270515\n"
     ]
    }
   ],
   "source": [
    "concept = \"Paradise\" # por ejemplo\n",
    "concept_emb = model.encode(concept.lower(), convert_to_tensor=True)\n",
    "\n",
    "df[\"cos_similarity\"] = df[\"arab_embeddings\"].apply(lambda x: util.pytorch_cos_sim(x, concept_emb).item())\n",
    "df_sorted = df.sort_values(by=\"cos_similarity\", ascending=False)\n",
    "print(df_sorted[[\"text\", \"cos_similarity\"]].head(10))"
   ]
  },
  {
   "cell_type": "markdown",
   "id": "194f8c07",
   "metadata": {},
   "source": [
    "# Análisis de Quran en Inglés"
   ]
  },
  {
   "cell_type": "code",
   "execution_count": 19,
   "id": "a0f05723",
   "metadata": {},
   "outputs": [
    {
     "data": {
      "text/html": [
       "<div>\n",
       "<style scoped>\n",
       "    .dataframe tbody tr th:only-of-type {\n",
       "        vertical-align: middle;\n",
       "    }\n",
       "\n",
       "    .dataframe tbody tr th {\n",
       "        vertical-align: top;\n",
       "    }\n",
       "\n",
       "    .dataframe thead th {\n",
       "        text-align: right;\n",
       "    }\n",
       "</style>\n",
       "<table border=\"1\" class=\"dataframe\">\n",
       "  <thead>\n",
       "    <tr style=\"text-align: right;\">\n",
       "      <th></th>\n",
       "      <th>text</th>\n",
       "    </tr>\n",
       "  </thead>\n",
       "  <tbody>\n",
       "    <tr>\n",
       "      <th>0</th>\n",
       "      <td>in the name of allah the entirely merciful the...</td>\n",
       "    </tr>\n",
       "    <tr>\n",
       "      <th>1</th>\n",
       "      <td>all praise is due to allah lord of the worlds</td>\n",
       "    </tr>\n",
       "    <tr>\n",
       "      <th>2</th>\n",
       "      <td>the entirely merciful the especially merciful</td>\n",
       "    </tr>\n",
       "    <tr>\n",
       "      <th>3</th>\n",
       "      <td>sovereign of the day of recompense</td>\n",
       "    </tr>\n",
       "    <tr>\n",
       "      <th>4</th>\n",
       "      <td>it is you we worship and you we ask for help</td>\n",
       "    </tr>\n",
       "  </tbody>\n",
       "</table>\n",
       "</div>"
      ],
      "text/plain": [
       "                                                text\n",
       "0  in the name of allah the entirely merciful the...\n",
       "1      all praise is due to allah lord of the worlds\n",
       "2      the entirely merciful the especially merciful\n",
       "3                 sovereign of the day of recompense\n",
       "4       it is you we worship and you we ask for help"
      ]
     },
     "execution_count": 19,
     "metadata": {},
     "output_type": "execute_result"
    }
   ],
   "source": [
    "with open(\"/home/unaiolaizolaosa/Dokumentuak/NLP-Group-Project/data/cleaned_data/cleaned_english_quran.txt\", encoding=\"utf-8\") as f:\n",
    "    lines = f.readlines()\n",
    "\n",
    "df = pd.DataFrame(lines, columns=[\"text\"])\n",
    "df[\"text\"] = df[\"text\"].str.strip()\n",
    "\n",
    "df.head()"
   ]
  },
  {
   "cell_type": "code",
   "execution_count": 20,
   "id": "3189741a",
   "metadata": {},
   "outputs": [],
   "source": [
    "df[\"arab_embeddings\"] = df[\"text\"].apply(lambda x: model.encode(x, convert_to_tensor=True))"
   ]
  },
  {
   "cell_type": "code",
   "execution_count": 21,
   "id": "983b63ac",
   "metadata": {},
   "outputs": [
    {
     "name": "stdout",
     "output_type": "stream",
     "text": [
      "                                                   text  cos_similarity\n",
      "6022                              and enter my paradise        0.638474\n",
      "4394        enter paradise you and your kinds delighted        0.631074\n",
      "5812                  and when paradise is brought near        0.614703\n",
      "2878  the companions of paradise that day are in a b...        0.591378\n",
      "4559  is the description of paradise which the right...        0.576164\n",
      "5610  and when you look there in paradise you will s...        0.570232\n",
      "4660  and paradise will be brought near to the right...        0.556255\n",
      "4396  and that is paradise which you are made to inh...        0.549605\n",
      "3021  and paradise will be brought near that day to ...        0.535889\n",
      "615   paradise is not obtained by your wishful think...        0.533608\n"
     ]
    }
   ],
   "source": [
    "concept = \"Paradise\" # por ejemplo\n",
    "concept_emb = model.encode(concept.lower(), convert_to_tensor=True)\n",
    "\n",
    "df[\"cos_similarity\"] = df[\"arab_embeddings\"].apply(lambda x: util.pytorch_cos_sim(x, concept_emb).item())\n",
    "df_sorted = df.sort_values(by=\"cos_similarity\", ascending=False)\n",
    "print(df_sorted[[\"text\", \"cos_similarity\"]].head(10))"
   ]
  }
 ],
 "metadata": {
  "kernelspec": {
   "display_name": "quran-nlp",
   "language": "python",
   "name": "python3"
  },
  "language_info": {
   "codemirror_mode": {
    "name": "ipython",
    "version": 3
   },
   "file_extension": ".py",
   "mimetype": "text/x-python",
   "name": "python",
   "nbconvert_exporter": "python",
   "pygments_lexer": "ipython3",
   "version": "3.10.18"
  }
 },
 "nbformat": 4,
 "nbformat_minor": 5
}
